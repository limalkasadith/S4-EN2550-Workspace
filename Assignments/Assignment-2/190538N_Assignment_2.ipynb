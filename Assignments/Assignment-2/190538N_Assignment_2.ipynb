{
 "cells": [
  {
   "cell_type": "markdown",
   "metadata": {},
   "source": [
    "## Assignment - 2\n",
    "### Name : Limalka Sadith\n",
    "### Index No : 190538N"
   ]
  },
  {
   "cell_type": "code",
   "execution_count": 1,
   "metadata": {},
   "outputs": [],
   "source": [
    "import numpy as np\n",
    "import cv2 as cv\n",
    "import matplotlib.pyplot as plt\n",
    "%matplotlib inline"
   ]
  },
  {
   "cell_type": "code",
   "execution_count": 2,
   "metadata": {},
   "outputs": [
    {
     "data": {
      "image/png": "[encoded data removed]",
      "text/plain": [
       "<Figure size 720x360 with 2 Axes>"
      ]
     },
     "metadata": {
      "needs_background": "light"
     },
     "output_type": "display_data"
    }
   ],
   "source": [
    "import numpy as np \n",
    "from scipy.optimize import minimize \n",
    "from scipy import linalg \n",
    "import matplotlib.pyplot as plt \n",
    "\n",
    "fig, ax = plt.subplots(1,2,figsize = (10,5))\n",
    "# np.random.seed(0) \n",
    "N = 100 \n",
    "half_n = N//2 \n",
    "r = 10 \n",
    "s = r/16 \n",
    "t = np.random. uniform (0 , 2*np . pi,half_n ) \n",
    "n = s*np.random. randn ( half_n ) \n",
    "x , y = ( r + n)*np . cos ( t ) , ( r + n)*np . sin ( t )\n",
    "\n",
    "# ax[0].scatter(x,y)\n",
    "\n",
    "# X_circ = np . hstack ( ( x . reshape ( half_n , 1 ) , y . reshape ( half_n , 1 ) ) ) \n",
    "# m, b = -1, 2 \n",
    "# x = np . linspace (-12, 12 , half_n ) \n",
    "# y = m*x + b + s*np . random. randn ( half_n ) \n",
    "# X_line = np . hstack ( ( x . reshape ( half_n , 1 ) , y . reshape ( half_n , 1 ) ) ) \n",
    "# X = np . vstack ((X_circ , X_line))\n",
    "\n",
    "# ax[1].scatter(x,y)\n",
    "# plt.show()\n"
   ]
  },
  {
   "cell_type": "code",
   "execution_count": 30,
   "metadata": {},
   "outputs": [
    {
     "data": {
      "image/png": "[encoded data removed]",
      "text/plain": [
       "<Figure size 360x360 with 1 Axes>"
      ]
     },
     "metadata": {
      "needs_background": "light"
     },
     "output_type": "display_data"
    }
   ],
   "source": [
    "from numpy.linalg import inv\n",
    "\n",
    "def RANSAC_circle(x_data, y_data, n):\n",
    "\td_min = 99999\n",
    "\tbest_circle = []\n",
    "\tbest_sample = []\n",
    "\n",
    "\tfor _ in range(n):\n",
    "\t\tsample = []\n",
    "\t\tsave_ran = []\n",
    "\t\t\n",
    "\n",
    "\t\t# get three points from data\n",
    "\t\ti = 0\n",
    "\t\twhile True:\n",
    "\t\t\tran = np.random.randint(len(x_data))\n",
    "\t\t\tif ran not in save_ran:\n",
    "\t\t\t\tsample.append((x_data[ran], y_data[ran]))\n",
    "\t\t\t\tsave_ran.append(ran)\n",
    "\t\t\t\ti += 1\n",
    "\t\t\tif i == 3:\n",
    "\t\t\t\tbreak\n",
    "\n",
    "\n",
    "\t\t# calculate A, B, C value from three points by using matrix\n",
    "\n",
    "\t\tpt1 = sample[0]\n",
    "\t\tpt2 = sample[1]\n",
    "\t\tpt3 = sample[2]\n",
    "\n",
    "\t\tA = np.array([[pt2[0] - pt1[0], pt2[1] - pt1[1]], [pt3[0] - pt2[0], pt3[1] - pt2[1]]]) \n",
    "\t\tB = np.array([[pt2[0]**2 - pt1[0]**2 + pt2[1]**2 - pt1[1]**2], [pt3[0]**2 - pt2[0]**2 + pt3[1]**2 - pt2[1]**2]])\t\t\n",
    "\t\tinv_A = inv(A)\n",
    "\n",
    "\t\tc_x, c_y = np.dot(inv_A, B) / 2\n",
    "\t\tc_x, c_y = c_x[0], c_y[0]\n",
    "\t\tr = np.sqrt((c_x - pt1[0])**2 + (c_y - pt1[1])**2)\n",
    "\n",
    "\n",
    "\t\td = 0\n",
    "\t\tfor i in range(len(x_data)):\n",
    "\t\t\tdis = np.sqrt((x_data[i]-c_x)**2 + (y_data[i]-c_y)**2)\n",
    "\n",
    "\t\t\t# if abs(dis-r) < 5:\n",
    "\t\t\t# \td += abs(dis-r)\n",
    "\t\t\tif dis >= r:\n",
    "\t\t\t\td += dis - r\n",
    "\t\t\telse:\n",
    "\t\t\t\td += r - dis\n",
    "\t\t\n",
    "\t\t# a, b, = c_x,c_y\n",
    "\t\t# x_sample, y_sample = [i[0] for i in sample],[i[1] for i in sample]\n",
    "\t\t# ax.scatter(x_sample, y_sample, c='r', marker='o', label='data')\n",
    "\t\t# circle = plt.Circle((a, b), radius=r, color='m', fc='y', fill=False)\n",
    "\t\t# ax.add_artist(circle)\n",
    "\n",
    "\n",
    "\t\tif d_min > d:\n",
    "\t\t\td_min = d\n",
    "\t\t\tbest_circle = [c_x, c_y, r]\n",
    "\t\t\tbest_sample = sample.copy()\n",
    "\n",
    "\treturn best_circle,best_sample\n",
    "\n",
    "\n",
    "fig,ax = plt.subplots(figsize=(5,5))\n",
    "ax.scatter(x,y)\n",
    "\n",
    "circle, sample = RANSAC_circle(x,y,10)\n",
    "a, b, r = circle\n",
    "x_sample, y_sample = [i[0] for i in sample],[i[1] for i in sample]\n",
    "\n",
    "\n",
    "ax.scatter(x_sample, y_sample, c='r', marker='o', label='data')\n",
    "\n",
    "circle = plt.Circle((a, b), radius=r, color='b', fc='y', fill=False)\n",
    "# ax.gca().add_patch(circle)\n",
    "ax.add_artist(circle)\n",
    "ax.axis('scaled')\n",
    "# ax.legend()\n",
    "plt.show()\n"
   ]
  },
  {
   "cell_type": "code",
   "execution_count": 31,
   "metadata": {},
   "outputs": [],
   "source": [
    "from skimage.io import imread, imshow\n",
    "from skimage import transform\n",
    "import matplotlib.pyplot as plt\n",
    "import numpy as np"
   ]
  },
  {
   "cell_type": "code",
   "execution_count": 83,
   "metadata": {},
   "outputs": [
    {
     "name": "stdout",
     "output_type": "stream",
     "text": [
      "[[150 200]\n",
      " [120 450]\n",
      " [500 250]\n",
      " [470 450]]\n"
     ]
    },
    {
     "ename": "error",
     "evalue": "OpenCV(4.5.5) D:\\a\\opencv-python\\opencv-python\\opencv\\modules\\core\\src\\arithm.cpp:650: error: (-209:Sizes of input arguments do not match) The operation is neither 'array op array' (where arrays have the same size and the same number of channels), nor 'array op scalar', nor 'scalar op array' in function 'cv::arithm_op'\n",
     "output_type": "error",
     "traceback": [
      "\u001b[1;31m---------------------------------------------------------------------------\u001b[0m",
      "\u001b[1;31merror\u001b[0m                                     Traceback (most recent call last)",
      "\u001b[1;32mc:\\Users\\Snov\\Documents\\UoM\\ENTC\\Semester 4\\7 - EN2550 - Fundamentals of Image Processing and Machine Vision\\S4-EN2550-Workspace\\Assignments\\Assignment-2\\190538N_Assignment_2.ipynb Cell 6'\u001b[0m in \u001b[0;36m<module>\u001b[1;34m\u001b[0m\n\u001b[0;32m     <a href='vscode-notebook-cell:/c%3A/Users/Snov/Documents/UoM/ENTC/Semester%204/7%20-%20EN2550%20-%20Fundamentals%20of%20Image%20Processing%20and%20Machine%20Vision/S4-EN2550-Workspace/Assignments/Assignment-2/190538N_Assignment_2.ipynb#ch0000007?line=22'>23</a>\u001b[0m \u001b[39m#plotting the transformed image\u001b[39;00m\n\u001b[0;32m     <a href='vscode-notebook-cell:/c%3A/Users/Snov/Documents/UoM/ENTC/Semester%204/7%20-%20EN2550%20-%20Fundamentals%20of%20Image%20Processing%20and%20Machine%20Vision/S4-EN2550-Workspace/Assignments/Assignment-2/190538N_Assignment_2.ipynb#ch0000007?line=23'>24</a>\u001b[0m fig, ax \u001b[39m=\u001b[39m plt\u001b[39m.\u001b[39msubplots()\n\u001b[1;32m---> <a href='vscode-notebook-cell:/c%3A/Users/Snov/Documents/UoM/ENTC/Semester%204/7%20-%20EN2550%20-%20Fundamentals%20of%20Image%20Processing%20and%20Machine%20Vision/S4-EN2550-Workspace/Assignments/Assignment-2/190538N_Assignment_2.ipynb#ch0000007?line=24'>25</a>\u001b[0m dest \u001b[39m=\u001b[39m cv\u001b[39m.\u001b[39;49maddWeighted(tf_img, \u001b[39m1\u001b[39;49m, img, \u001b[39m1\u001b[39;49m, \u001b[39m0.0\u001b[39;49m)\n\u001b[0;32m     <a href='vscode-notebook-cell:/c%3A/Users/Snov/Documents/UoM/ENTC/Semester%204/7%20-%20EN2550%20-%20Fundamentals%20of%20Image%20Processing%20and%20Machine%20Vision/S4-EN2550-Workspace/Assignments/Assignment-2/190538N_Assignment_2.ipynb#ch0000007?line=25'>26</a>\u001b[0m \u001b[39mprint\u001b[39m(img[\u001b[39m0\u001b[39m],tf_img[\u001b[39m0\u001b[39m])\n\u001b[0;32m     <a href='vscode-notebook-cell:/c%3A/Users/Snov/Documents/UoM/ENTC/Semester%204/7%20-%20EN2550%20-%20Fundamentals%20of%20Image%20Processing%20and%20Machine%20Vision/S4-EN2550-Workspace/Assignments/Assignment-2/190538N_Assignment_2.ipynb#ch0000007?line=26'>27</a>\u001b[0m \u001b[39m# ax.imshow(img)\u001b[39;00m\n\u001b[0;32m     <a href='vscode-notebook-cell:/c%3A/Users/Snov/Documents/UoM/ENTC/Semester%204/7%20-%20EN2550%20-%20Fundamentals%20of%20Image%20Processing%20and%20Machine%20Vision/S4-EN2550-Workspace/Assignments/Assignment-2/190538N_Assignment_2.ipynb#ch0000007?line=27'>28</a>\u001b[0m \u001b[39m# ax.imshow(tf_img)\u001b[39;00m\n",
      "\u001b[1;31merror\u001b[0m: OpenCV(4.5.5) D:\\a\\opencv-python\\opencv-python\\opencv\\modules\\core\\src\\arithm.cpp:650: error: (-209:Sizes of input arguments do not match) The operation is neither 'array op array' (where arrays have the same size and the same number of channels), nor 'array op scalar', nor 'scalar op array' in function 'cv::arithm_op'\n"
     ]
    },
    {
     "data": {
      "image/png": "[encoded data removed]",
      "text/plain": [
       "<Figure size 432x288 with 1 Axes>"
      ]
     },
     "metadata": {
      "needs_background": "light"
     },
     "output_type": "display_data"
    }
   ],
   "source": [
    "img = imread('001.jpg')\n",
    "# img = cv.cvtColor(img,cv.COLOR_BGR2RGB)\n",
    "# imshow(img)\n",
    "\n",
    "# flag = cv.imread('flag.png',cv.IMREAD_COLOR)\n",
    "flag = imread('flag.png')\n",
    "# imshow(flag)\n",
    "\n",
    "#source coordinates\n",
    "src = np.array([0, 0, \n",
    "                0, 900,\n",
    "                1800, 0,\n",
    "                1800, 900,]).reshape((4, 2))\n",
    "#destination coordinates\n",
    "dst = np.array([150, 200, \n",
    "                120, 450,\n",
    "                500,250,\n",
    "                470, 450,]).reshape((4, 2))\n",
    "print(dst)\n",
    "#using skimage’s transform module where ‘projective’ is our desired parameter\n",
    "tform = transform.estimate_transform('projective', src, dst)\n",
    "tf_img = transform.warp(flag, tform.inverse)\n",
    "#plotting the transformed image\n",
    "fig, ax = plt.subplots()\n",
    "dest = cv.addWeighted(tf_img, 1, img, 1, 0.0)\n",
    "print(img[0],tf_img[0])\n",
    "# ax.imshow(img)\n",
    "# ax.imshow(tf_img)\n",
    "ax.imshow(dest)\n",
    "_ = ax.set_title('projective transformation')"
   ]
  },
  {
   "cell_type": "code",
   "execution_count": null,
   "metadata": {},
   "outputs": [],
   "source": []
  }
 ],
 "metadata": {
  "interpreter": {
   "hash": "a4d12f220dd55d59c55de5e13db00c6d1249bbfe00e9f165820cacdd93bfee6d"
  },
  "kernelspec": {
   "display_name": "Python 3.8.12 ('ComputerVision')",
   "language": "python",
   "name": "python3"
  },
  "language_info": {
   "codemirror_mode": {
    "name": "ipython",
    "version": 3
   },
   "file_extension": ".py",
   "mimetype": "text/x-python",
   "name": "python",
   "nbconvert_exporter": "python",
   "pygments_lexer": "ipython3",
   "version": "3.8.12"
  },
  "orig_nbformat": 4
 },
 "nbformat": 4,
 "nbformat_minor": 2
}
